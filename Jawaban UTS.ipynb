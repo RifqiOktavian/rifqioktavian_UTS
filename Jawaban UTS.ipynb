{
 "cells": [
  {
   "cell_type": "markdown",
   "metadata": {
    "id": "QiGcp6j9_QSz"
   },
   "source": [
    "## Soal UTS"
   ]
  },
  {
   "cell_type": "markdown",
   "metadata": {},
   "source": [
    "Tasks 1"
   ]
  },
  {
   "cell_type": "code",
   "execution_count": 1,
   "metadata": {
    "id": "RWdhQPRt8yrd"
   },
   "outputs": [
    {
     "name": "stdout",
     "output_type": "stream",
     "text": [
      "Name            Domain          Country        \n",
      "=============================================\n",
      "Company 1       Retail          United States  \n",
      "Company 2       Technology      United Kingdom \n",
      "Company 3       Healthcare      United States  \n"
     ]
    }
   ],
   "source": [
    "company_detail_list = [\n",
    "      {\n",
    "          'name': 'Company 1',\n",
    "          'domain': 'Retail',\n",
    "          'country': 'United States'\n",
    "      },\n",
    "      {\n",
    "          'name': 'Company 2',\n",
    "          'domain': 'Technology',\n",
    "          'country': 'United Kingdom'\n",
    "      },\n",
    "      {\n",
    "          'name': 'Company 3',\n",
    "          'domain': 'Healthcare',\n",
    "          'country': 'United States'\n",
    "      }\n",
    "  ]\n",
    "\n",
    "print(f\"{'Name':<15} {'Domain':<15} {'Country':<15}\")\n",
    "print(\"=\"*45)\n",
    "\n",
    "for company in company_detail_list:\n",
    "    print(f\"{company['name']:<15} {company['domain']:<15} {company['country']:<15}\")"
   ]
  },
  {
   "cell_type": "markdown",
   "metadata": {},
   "source": [
    "Soal 2"
   ]
  },
  {
   "cell_type": "code",
   "execution_count": 3,
   "metadata": {},
   "outputs": [
    {
     "name": "stdout",
     "output_type": "stream",
     "text": [
      "Name Company    | Domain          | Country        \n",
      "===============================================\n",
      "Company 1       | Retail          | United States  \n",
      "Company 2       | Technology      | United Kingdom \n",
      "Company 3       | Healthcare      | United States  \n"
     ]
    }
   ],
   "source": [
    "company_detail_list = [\n",
    "    {\n",
    "        'name': 'Company 1',\n",
    "        'domain': 'Retail',\n",
    "        'country': 'United States'\n",
    "    },\n",
    "    {\n",
    "        'name': 'Company 2',\n",
    "        'domain': 'Technology',\n",
    "        'country': 'United Kingdom'\n",
    "    },\n",
    "    {\n",
    "        'name': 'Company 3',\n",
    "        'domain': 'Healthcare',\n",
    "        'country': 'United States'\n",
    "    }\n",
    "]\n",
    "\n",
    "print(f\"{'Name Company':<15} | {'Domain':<15} | {'Country':<15}\")\n",
    "print(\"=\" * 47)\n",
    "\n",
    "for company in company_detail_list:\n",
    "    print(f\"{company['name']:<15} | {company['domain']:<15} | {company['country']:<15}\")\n"
   ]
  },
  {
   "cell_type": "markdown",
   "metadata": {},
   "source": [
    "Tasks 3"
   ]
  },
  {
   "cell_type": "code",
   "execution_count": 5,
   "metadata": {},
   "outputs": [
    {
     "name": "stdout",
     "output_type": "stream",
     "text": [
      "{\n",
      "    \"Retail\": [\n",
      "        \"John Doe\",\n",
      "        \"Robert White\",\n",
      "        \"Ying Han Tan\",\n",
      "    ],\n",
      "    \"Technology\": [\n",
      "        \"Tom Smith\",\n",
      "        \"Rubby Lee\",\n",
      "    ],\n",
      "    \"Healthcare\": [\n",
      "        \"Kenneth Ng\",\n",
      "        \"Andrew Sebastian\",\n",
      "    ],\n",
      "}\n"
     ]
    }
   ],
   "source": [
    "employees_by_domain = {}\n",
    "\n",
    "for employee in employees:\n",
    "    domain = employee['domain']\n",
    "    name = employee['name']\n",
    "    \n",
    "    if domain not in employees_by_domain:\n",
    "        employees_by_domain[domain] = []\n",
    "    \n",
    "    employees_by_domain[domain].append(name)\n",
    "\n",
    "print(\"{\")\n",
    "for domain, names in employees_by_domain.items():\n",
    "    print(f'    \"{domain}\": [')\n",
    "    for name in names:\n",
    "        print(f'        \"{name}\",')\n",
    "    print(\"    ],\")\n",
    "print(\"}\")\n"
   ]
  },
  {
   "cell_type": "markdown",
   "metadata": {},
   "source": [
    "Tasks 4"
   ]
  },
  {
   "cell_type": "code",
   "execution_count": 11,
   "metadata": {},
   "outputs": [
    {
     "name": "stdout",
     "output_type": "stream",
     "text": [
      "[\n",
      "    {\n",
      "        \"full_name\": \"John Doe\",\n",
      "        \"company\": \"Company 1\",\n",
      "        \"country\": \"United States\"\n",
      "    },\n",
      "    {\n",
      "        \"full_name\": \"Tom Smith\",\n",
      "        \"company\": \"Company 2\",\n",
      "        \"country\": \"United Kingdom\"\n",
      "    },\n",
      "    {\n",
      "        \"full_name\": \"Andrew Sebastian\",\n",
      "        \"company\": \"Company 3\",\n",
      "        \"country\": \"United Kingdom\"\n",
      "    },\n",
      "    {\n",
      "        \"full_name\": \"Ying Han Tan\",\n",
      "        \"company\": \"Company 1\",\n",
      "        \"country\": \"United States\"\n",
      "    },\n",
      "    {\n",
      "        \"full_name\": \"Kenneth Ng\",\n",
      "        \"company\": \"Company 3\",\n",
      "        \"country\": \"United Kingdom\"\n",
      "    },\n",
      "    {\n",
      "        \"full_name\": \"Rubby Lee\",\n",
      "        \"company\": \"Company 2\",\n",
      "        \"country\": \"United Kingdom\"\n",
      "    },\n",
      "    {\n",
      "        \"full_name\": \"Robert White\",\n",
      "        \"company\": \"Company 1\",\n",
      "        \"country\": \"United States\"\n",
      "    },\n",
      "]\n"
     ]
    }
   ],
   "source": [
    "company_country_map = {\n",
    "    'Company 1': 'United States',\n",
    "    'Company 2': 'United Kingdom',\n",
    "    'Company 3': 'United Kingdom'\n",
    "}\n",
    "\n",
    "def get_employees_with_country(employee_list):\n",
    "    result = []\n",
    "    for employee in employee_list:\n",
    "        full_name = employee['full_name']\n",
    "        company = employee['company']\n",
    "        country = company_country_map.get(company, \"Unknown\")\n",
    "        \n",
    "        result.append({\n",
    "            'full_name': full_name,\n",
    "            'company': company,\n",
    "            'country': country\n",
    "        })\n",
    "    \n",
    "    return result\n",
    "\n",
    "employees_with_country = get_employees_with_country(employee_detail_list)\n",
    "\n",
    "print(\"[\")\n",
    "for emp in employees_with_country:\n",
    "    print(f'    {{')\n",
    "    print(f'        \"full_name\": \"{emp[\"full_name\"]}\",')\n",
    "    print(f'        \"company\": \"{emp[\"company\"]}\",')\n",
    "    print(f'        \"country\": \"{emp[\"country\"]}\"')\n",
    "    print(f'    }},')\n",
    "print(\"]\")\n"
   ]
  },
  {
   "cell_type": "markdown",
   "metadata": {},
   "source": [
    "Tasks 5"
   ]
  },
  {
   "cell_type": "code",
   "execution_count": 14,
   "metadata": {},
   "outputs": [
    {
     "name": "stdout",
     "output_type": "stream",
     "text": [
      "[\n",
      "    {\n",
      "        \"company\": \"Company 1\",\n",
      "        \"employee_nationality\": {'Australia': 2, 'United Kingdom': 1}\n",
      "    },\n",
      "    {\n",
      "        \"company\": \"Company 2\",\n",
      "        \"employee_nationality\": {'United States': 1, 'Hong Kong': 1}\n",
      "    },\n",
      "    {\n",
      "        \"company\": \"Company 3\",\n",
      "        \"employee_nationality\": {'United States': 2}\n",
      "    },\n",
      "]\n"
     ]
    }
   ],
   "source": [
    "def get_companies_with_employee_nationality(employee_list):\n",
    "    company_nationality_map = {}\n",
    "\n",
    "    for employee in employee_list:\n",
    "        company = employee['company']\n",
    "        nationality = employee['nationality']\n",
    "        \n",
    "        if company not in company_nationality_map:\n",
    "            company_nationality_map[company] = {}\n",
    "        \n",
    "        if nationality not in company_nationality_map[company]:\n",
    "            company_nationality_map[company][nationality] = 0\n",
    "        \n",
    "        company_nationality_map[company][nationality] += 1\n",
    "    \n",
    "    result = []\n",
    "    for company, nationalities in company_nationality_map.items():\n",
    "        result.append({\n",
    "            'company': company,\n",
    "            'employee_nationality': nationalities\n",
    "        })\n",
    "    \n",
    "    return result\n",
    "\n",
    "companies_with_nationality = get_companies_with_employee_nationality(employee_detail_list)\n",
    "\n",
    "print(\"[\")\n",
    "for company in companies_with_nationality:\n",
    "    print(f'    {{')\n",
    "    print(f'        \"company\": \"{company[\"company\"]}\",')\n",
    "    print(f'        \"employee_nationality\": {company[\"employee_nationality\"]}')\n",
    "    print(f'    }},')\n",
    "print(\"]\")"
   ]
  }
 ],
 "metadata": {
  "colab": {
   "collapsed_sections": [],
   "name": "AT Backend Test.ipynb",
   "provenance": [
    {
     "file_id": "1vK5VvfGC3SQ_onwiFXNdtvWQRvHAbeZa",
     "timestamp": 1650627195682
    },
    {
     "file_id": "1hHOgmPPwUDtWvGuaz2tuclaa6MJYUmIm",
     "timestamp": 1650504460415
    },
    {
     "file_id": "1HSO3CG0-7R5jptBBEx-CDHIDRjXgXmrl",
     "timestamp": 1650255042674
    }
   ]
  },
  "kernelspec": {
   "display_name": "Python 3",
   "language": "python",
   "name": "python3"
  },
  "language_info": {
   "codemirror_mode": {
    "name": "ipython",
    "version": 3
   },
   "file_extension": ".py",
   "mimetype": "text/x-python",
   "name": "python",
   "nbconvert_exporter": "python",
   "pygments_lexer": "ipython3",
   "version": "3.12.5"
  }
 },
 "nbformat": 4,
 "nbformat_minor": 4
}
